{
 "cells": [
  {
   "cell_type": "markdown",
   "id": "f2be61fc-1133-41d5-8aa1-b538b058eeee",
   "metadata": {},
   "source": [
    "# Permeability Data analysis"
   ]
  },
  {
   "cell_type": "markdown",
   "id": "46f07fc2-86d1-457e-9e4c-14b680f4d54e",
   "metadata": {},
   "source": [
    "## Import Required Libraries"
   ]
  },
  {
   "cell_type": "code",
   "execution_count": 11,
   "id": "d38383fe-8068-4161-9827-92e2cd1aabe4",
   "metadata": {},
   "outputs": [],
   "source": [
    "#importing custom functions\n",
    "import sys\n",
    "sys.path.append('/Users/ristomartin/OneDrive/Dropbox/UniStuff/DPhil/Experimental/python_analysis/common_functions')\n",
    "from custom_functions import *\n",
    "from common_fits import *\n",
    "\n",
    "import os\n",
    "import pandas as pd\n",
    "import numpy as np\n",
    "from scipy.optimize import curve_fit\n",
    "%matplotlib inline\n",
    "import matplotlib.pyplot as plt\n",
    "from scipy.stats import iqr, kurtosis, skew\n",
    "import itertools"
   ]
  },
  {
   "cell_type": "markdown",
   "id": "c156beea-5177-4fd4-b33d-fe3b7bae954d",
   "metadata": {},
   "source": [
    "## Set Data locations"
   ]
  },
  {
   "cell_type": "code",
   "execution_count": 12,
   "id": "45367067-52e5-4abe-8d1e-7c487cff4a8b",
   "metadata": {},
   "outputs": [],
   "source": [
    "#What is the root location of the files that you want to analyse\n",
    "root = '/Users/ristomartin/OneDrive/Dropbox/UniStuff/DPhil/Experimental/'\n",
    "\n",
    "SSD = '/Volumes/Risto\\'s SSD/Math_modelling/output/'\n",
    "\n",
    "#Data set locations with the root directory selected\n",
    "data_loc = root+'transport/permeability/280322/'\n",
    "\n",
    "\n",
    "#What is the root directectory where you want to save everything?\n",
    "save_loc = root+'python_analysis/permeability/processed_data/'\n",
    "checkdir(save_loc) #check that processed data directory exists\n",
    "\n",
    "#for summary tables\n",
    "summary_save_loc = save_loc+'summaries/'\n",
    "checkdir(summary_save_loc)\n",
    "\n",
    "##Create save locations of figures\n",
    "#figure root\n",
    "fig_root = save_loc+'figures/'\n",
    "checkdir(fig_root)\n",
    "\n",
    "##Fibre diameter data\n",
    "fibre_dat_loc = root+'ES_PCL_PDO_270219/SEM/bead_free/processed/summary_loc/'"
   ]
  },
  {
   "cell_type": "markdown",
   "id": "1cc281ee-90c8-4aed-b8eb-4872ce6b71b3",
   "metadata": {},
   "source": [
    "## Constants and experimentally set parameters"
   ]
  },
  {
   "cell_type": "code",
   "execution_count": 13,
   "id": "d52d4dc1-e802-447d-9123-4f1bf3fa2d75",
   "metadata": {},
   "outputs": [
    {
     "name": "stdout",
     "output_type": "stream",
     "text": [
      "0.0011341149479459152\n"
     ]
    }
   ],
   "source": [
    "##Unit conversions\n",
    "#cm^3 to m^3\n",
    "cm3tom3 = 1e-6\n",
    "#PSI to pa\n",
    "PSItoPa = 6894.7572931783\n",
    "#um to m \n",
    "umtm = 1e-6\n",
    "\n",
    "##Constants\n",
    "#Density of water\n",
    "h20p = 0.9940326 #[g/cm^3]\n",
    "#Dynamic viscosity of water\n",
    "mu = 0.0009764 #pa*s\n",
    "#dynamic viscosity of air\n",
    "mu_a = 18.13E-6\n",
    "#Membrane diameter - this will later change depending on membrane thickness\n",
    "L_dic = {'0ppm':48.86,'1ppm':55.84,'5ppm':62.82,'10ppm':76.78,'25ppm':83.76,'50ppm':111.68} #um\n",
    "\n",
    "#Membrane diameter - this will later change depending on membrane thickness\n",
    "#L_dic = {'0ppm':152.29,'1ppm':216.35,'5ppm':157.55,'10ppm':292.8,'25ppm':260.67,'50ppm':154.21} #um\n",
    "\n",
    "##Experimental parameters\n",
    "#Diameter of area of membrane exposed to water and pressure (meassured inner diameter of gasket) \n",
    "memdia = 38 * 1e-3 #m\n",
    "mem_area = np.pi*((memdia/2)**2) #m^2\n",
    "print(mem_area)\n",
    "\n",
    "#Inlet pressure set at the pressure gauge when connected to dead end filtration cell with membrane and water flowing through\n",
    "iP = 10 #PSI\n",
    "iP = iP*PSItoPa #Pa\n",
    "\n",
    "#Calculate pressure drop in tubes with Hagen–Poiseuille equation (assuming straight rigid tubes)\n",
    "def hp_dp(mu,Q,L,R):\n",
    "    dp = (8*mu*L*Q)/(np.pi*(R**4))\n",
    "    return dp\n",
    "\n",
    "##Measured characteristics of the inlet and outlet tubes used\n",
    "###Inlet\n",
    "#tube length\n",
    "itube_l = 2.01 #m\n",
    "#tube radius\n",
    "itube_r = 6.4e-3/2 #m\n",
    "###Outlet\n",
    "#tube length\n",
    "otube_l = 27e-2 #m\n",
    "#tube radius\n",
    "otube_r = 1.67e-3/2 #m\n",
    "\n",
    "#Equation of a straight line to fit to flux data\n",
    "def straightline(S,m,c):\n",
    "    return (m*S)+c"
   ]
  },
  {
   "cell_type": "markdown",
   "id": "1d650733-c8a9-40d7-b962-3a85ef526434",
   "metadata": {},
   "source": [
    "## Data Analysis"
   ]
  },
  {
   "cell_type": "code",
   "execution_count": 20,
   "id": "58c724ef-4aba-4124-9178-b507129867dd",
   "metadata": {},
   "outputs": [
    {
     "name": "stdout",
     "output_type": "stream",
     "text": [
      "    permeability  ppm rep\n",
      "0   9.794276e-15   50   1\n",
      "1   9.511606e-15   50   2\n",
      "2   9.706197e-15   50   3\n",
      "3   7.121067e-15   25   1\n",
      "4   5.132823e-15   25   2\n",
      "5   5.243204e-15   25   3\n",
      "6   6.432761e-15   10   1\n",
      "7   7.023613e-15   10   2\n",
      "8   6.838252e-15   10   3\n",
      "9   5.575682e-15    5   1\n",
      "10  5.273924e-15    5   2\n",
      "11  5.452505e-15    5   3\n",
      "12  4.932394e-15    1   1\n",
      "13  4.912221e-15    1   2\n",
      "14  4.835950e-15    1   3\n",
      "15  4.484384e-15    0   1\n",
      "16  4.332617e-15    0   2\n",
      "17  4.462725e-15    0   3\n"
     ]
    }
   ],
   "source": [
    "#Make dataframe to store all values\n",
    "summarydf = pd.DataFrame()\n",
    "\n",
    "#make a list of all the image files in data_loc\n",
    "files = [x for x in os.listdir(data_loc) if x.endswith(('csv'))==True]\n",
    "#Itterating through each of the data files\n",
    "for f in files:\n",
    "    #Determine PPM of sample\n",
    "    ppm = f.split('_')[1]\n",
    "    ppmint = int(ppm.split('ppm')[0])\n",
    "    #Determine repeat number\n",
    "    rep = f.split('_')[3].split('.')[0]\n",
    "    \n",
    "    #Get file directory from f\n",
    "    file = os.path.join(data_loc,f)\n",
    "    #Open each of the files and read in only time and weight data\n",
    "    df = pd.read_csv(file,usecols=[2,3,4], on_bad_lines ='skip')\n",
    "    \n",
    "    #Remove lines after recording ended\n",
    "    df = df.drop(df[(df.Time == '0')].index)\n",
    "    df.dropna(subset = ['Time'], inplace=True)\n",
    "    \n",
    "    #Add in data values for when recorded mass is above max of balance\n",
    "    mass = []\n",
    "    #Itterating through each of the data points for mass\n",
    "    for n in range(len(df['Header'])):\n",
    "        #If the reading is above the maximum that the scale can read then set it as zero as this can be used to trim data\n",
    "        if df['Header'][n] == 'SI+':\n",
    "            #Then add the zerod value to the mass list\n",
    "            mass.append(0)\n",
    "        #If not above the max value that the scale can read then append to the mass list and convert to a float\n",
    "        else:\n",
    "            mass.append(float(df['Data'][n]))\n",
    "    \n",
    "    ##Convert time into decimal value\n",
    "    #Make list of times\n",
    "    times = []\n",
    "    #Itterating through each of the times\n",
    "    for t in df['Time']:\n",
    "        #get each of the values from the time stamp associated with hours, minutes and seconds\n",
    "        (h, m, s) = t.split(':')\n",
    "        #Convert each time step into a decimal value\n",
    "        result = int(h) * 3600 + int(m) * 60 + int(s)\n",
    "        #As scale reads to ms but doesnt give time stamp with ms data. Add small time to each so proceed.\n",
    "        while result in times:\n",
    "            result = result + 0.142857\n",
    "        #append decimal value of time to times list\n",
    "        times.append(result)\n",
    "\n",
    "    ##Having made list of times, bring all values to zero\n",
    "    #make list of calibrated times\n",
    "    times0 = []\n",
    "    #Itterate through each of the times and subtract the first time value to calibrate\n",
    "    for t in times:\n",
    "        times0.append(float(t-times[0]))\n",
    "        \n",
    "    #Convert mass data into volume of water\n",
    "    volume = [x/h20p for x in mass]\n",
    "    \n",
    "    ##Trim data to only the point at which flow has started and then once flux stops (this is taken as when change is less than 10% per time step)\n",
    "    #Make marker for start point index\n",
    "    ix = 0\n",
    "    #Make marker for end point index\n",
    "    ex = 0\n",
    "    #Itterate through volumetric change data\n",
    "    for i,j in enumerate(volume):\n",
    "        #As long as havent found the time already take the first index at which mass value is more than 0.1g so flow has started\n",
    "        if ix == 0:\n",
    "            if volume[i] > 0.1:\n",
    "                ix = i\n",
    "        #As long as flow has been found to start\n",
    "        if ix != 0:\n",
    "            #Find then change in volume flux\n",
    "            dq = volume[i]-volume[i-1]\n",
    "            #If the change in volume flux between time steps is less than 10% then take this as the end point of region of interest and then end\n",
    "            if dq/volume[i]<0.01:\n",
    "                ex = i\n",
    "                break\n",
    "    \n",
    "    #Having found integer values of start and finish point then trim data\n",
    "    times0 = np.asarray(times0[ix:ex])\n",
    "    volume = np.asarray(volume[ix:ex])\n",
    "    \n",
    "    # #Having got list of times and data plot\n",
    "    # #create new template for figure\n",
    "    # fig, ax = plt.subplots()\n",
    "    # #Plot line graph\n",
    "    # ax.plot(times0, volume) # plot the line\n",
    "    # #Set axis labels\n",
    "    # plt.xlabel('Time (s)')\n",
    "    # plt.ylabel(r'Volume $(cm^3)$')\n",
    "    \n",
    "    #Having isolated change in volume with time data now want to fit a line to data points to get a value of flux (cm^3/s)\n",
    "    pop, pcov = curve_fit(f=straightline, xdata=times0, ydata=volume,maxfev=1000000)\n",
    "    # print(pop)\n",
    "    \n",
    "    # #Create figure for to plot fitted line to flux data\n",
    "    # fig, ax = plt.subplots()\n",
    "    # ax.plot(times0, volume)#, linestyle=model_style[model], color=model_colour[model],label=model)\n",
    "    # ax.plot(times0, straightline(times0, *pop))#, linestyle=model_style[model], color=model_colour[model],label=model)\n",
    "    \n",
    "    #From the gradient of the fitted line we therefore have volumetric flow rate Q [cm^3/s]\n",
    "    Q = pop[0]   \n",
    "    #Convert cm^3 to m^3\n",
    "    Q = Q*cm3tom3\n",
    "    \n",
    "    #As have volumetric flux calculate pressure drop along inlet and outlet tubes using measured lengths and radii of each tube and the volumetric flowrate of fluid\n",
    "    #As gas is entering through inlet tube use dynamic viscosity of air\n",
    "    idP = hp_dp(mu_a,Q,itube_l,itube_r)\n",
    "    #As water is leaving through the outlet tube use the dynamic viscosity of water\n",
    "    odP = hp_dp(mu,Q,otube_l,otube_r)\n",
    "    #As inlet pressure is set can then calculate the pressure drop over the membrane\n",
    "    dP = iP-(idP+odP)\n",
    "    \n",
    "    #get the thickness of the membrane\n",
    "    l = L_dic[ppm]*umtm\n",
    "    \n",
    "    #From volumetric flow rate, find flux by dividing by area membrane area\n",
    "    q = Q/mem_area #m/s\n",
    "    #Having found instantanious flux now calculate permeability from Darcy's law\n",
    "    k = (q*mu*l)/dP #m^2\n",
    "    #Save calculated permeability to DataFrame\n",
    "    summarydf = pd.concat([summarydf, pd.DataFrame(data={'permeability':[k],'ppm':[ppmint],'rep':[rep]})], axis=0)#.reindex(summarydf.index)\n",
    "    \n",
    "#Reset organise dataframe by ppm and repeat number\n",
    "summarydf = summarydf.sort_values(['ppm', 'rep'], ascending = (False, True))\n",
    "#Reset index of dataframe\n",
    "summarydf = summarydf.reset_index(drop=True)\n",
    "#Save out summary of change in permeability\n",
    "summarydf.to_csv(summary_save_loc+'all_permeability'+'.csv',index=False)\n",
    "\n",
    "print(summarydf)"
   ]
  },
  {
   "cell_type": "markdown",
   "id": "6c266507-beee-42c5-8346-b2864160d2a0",
   "metadata": {},
   "source": [
    "## Make summary of permeability data"
   ]
  },
  {
   "cell_type": "code",
   "execution_count": 15,
   "id": "81ed987c-f4f6-4cee-984a-3362d80fa47f",
   "metadata": {},
   "outputs": [
    {
     "name": "stdout",
     "output_type": "stream",
     "text": [
      "   pyridine_conc        median           IQR   quartile_25   quartile_75\n",
      "0             50  9.706197e-15  1.413350e-16  9.608901e-15  9.750236e-15\n",
      "0             25  5.243204e-15  9.941222e-16  5.188013e-15  6.182135e-15\n",
      "0             10  6.838252e-15  2.954262e-16  6.635506e-15  6.930933e-15\n",
      "0              5  5.452505e-15  1.508793e-16  5.363214e-15  5.514094e-15\n",
      "0              1  4.912221e-15  4.822173e-17  4.874086e-15  4.922307e-15\n",
      "0              0  4.462725e-15  7.588341e-17  4.397671e-15  4.473555e-15\n"
     ]
    }
   ],
   "source": [
    "#Make a dataframe of permeability summary data\n",
    "summarydf = pd.DataFrame()\n",
    "\n",
    "#Open summary of change in permeability\n",
    "summary = pd.read_csv(summary_save_loc+'all_permeability'+'.csv')\n",
    "#Get list of all unique values of ppm\n",
    "ppms = np.asarray(summary['ppm'].explode().unique())\n",
    "\n",
    "#Itterate through each of the ppm values and calculate the median average and IQR\n",
    "for p in ppms:\n",
    "    #Isolate cell number data\n",
    "    k = summary.loc[(summary['ppm'] == p)]['permeability']#.tolist()\n",
    "    #Calculate statistics\n",
    "    median = np.percentile(k.dropna(), 50)\n",
    "    IQR = iqr(k.dropna())\n",
    "    quartile_25 = np.percentile(k.dropna(), 25)\n",
    "    quartile_75 = np.percentile(k.dropna(), 75)\n",
    "    \n",
    "    #Append statistics to summay dataframe\n",
    "    summarydf = pd.concat([summarydf, pd.DataFrame(data={'pyridine_conc':p,'median':[median],'IQR':[IQR],'quartile_25':[quartile_25],\n",
    "                                                         'quartile_75':[quartile_75]})], axis=0)#.reindex(summarydf.index)\n",
    "\n",
    "#Save out summary of change in permeability\n",
    "summarydf.to_csv(summary_save_loc+'permeability_summary'+'.csv',index=False)\n",
    "print(summarydf)"
   ]
  },
  {
   "cell_type": "markdown",
   "id": "668cb7f0-a8df-47e4-b18e-c0cec03e3a47",
   "metadata": {},
   "source": [
    "## Plot change in permeability"
   ]
  },
  {
   "cell_type": "code",
   "execution_count": 16,
   "id": "a96a2001-b33f-4d34-80d2-6d10aaa8885d",
   "metadata": {},
   "outputs": [
    {
     "name": "stdout",
     "output_type": "stream",
     "text": [
      "   pyridine_conc        median           IQR   quartile_25   quartile_75\n",
      "0             50  9.706197e-15  1.413350e-16  9.608901e-15  9.750236e-15\n",
      "1             25  5.243204e-15  9.941222e-16  5.188013e-15  6.182135e-15\n",
      "2             10  6.838252e-15  2.954262e-16  6.635506e-15  6.930933e-15\n",
      "3              5  5.452505e-15  1.508793e-16  5.363214e-15  5.514094e-15\n",
      "4              1  4.912221e-15  4.822173e-17  4.874086e-15  4.922307e-15\n",
      "5              0  4.462725e-15  7.588341e-17  4.397671e-15  4.473555e-15\n"
     ]
    },
    {
     "data": {
      "image/png": "[encoded data removed]",
      "text/plain": [
       "<Figure size 432x288 with 1 Axes>"
      ]
     },
     "metadata": {},
     "output_type": "display_data"
    }
   ],
   "source": [
    "#Open summary of change in permeability\n",
    "summary = pd.read_csv(summary_save_loc+'permeability_summary'+'.csv')\n",
    "print(summary)\n",
    "\n",
    "#Having got list of times and data plot\n",
    "#create new template for figure\n",
    "fig, ax = plt.subplots()\n",
    "#Plot line graph\n",
    "ax.errorbar(summary['pyridine_conc'],summary['median'],yerr=summary['IQR'], fmt='x') # plot the line\n",
    "#Set axis labels\n",
    "plt.xlabel(r'Pyridine Concentration (ppm)')\n",
    "plt.ylabel(r'Permeability $(m^2)$')\n",
    "#Set the background colour of the entire plot\n",
    "fig.patch.set_facecolor('xkcd:white')\n",
    "#Save figure out\n",
    "fig.savefig(fig_root+'permeability_pyridine.png', dpi=300)"
   ]
  },
  {
   "cell_type": "markdown",
   "id": "fdd03a5a-6511-46e9-a56a-6113b7a9ccaf",
   "metadata": {},
   "source": [
    "## Plot change in permeability in terms of fibre diameter"
   ]
  },
  {
   "cell_type": "code",
   "execution_count": 17,
   "id": "616e64ef-673b-409b-9dc5-91611cb0ea90",
   "metadata": {},
   "outputs": [
    {
     "data": {
      "image/png": "[encoded data removed]",
      "text/plain": [
       "<Figure size 432x288 with 1 Axes>"
      ]
     },
     "metadata": {},
     "output_type": "display_data"
    }
   ],
   "source": [
    "#Open summary of change in permeability\n",
    "fibre_df = pd.read_csv(fibre_dat_loc+'pyridine_conc'+'.csv')\n",
    "#Change file name column name to make easier to identify\n",
    "fibre_df.rename(columns = {list(fibre_df)[0]:'file'}, inplace=True)\n",
    "#print(fibre_df)\n",
    "#make column of pyridine concentration in summary df\n",
    "fibre_df['ppm'] = [float(x.split(',')[1]) for x in list(fibre_df['file'])]\n",
    "#Reset organise dataframe by ppm and repeat number\n",
    "fibre_df = fibre_df.sort_values(['ppm'], ascending = (False))\n",
    "# print(fibre_df)\n",
    "\n",
    "#Open summary of change in permeability\n",
    "summary = pd.read_csv(summary_save_loc+'permeability_summary'+'.csv')\n",
    "#Ensure that permeability data and fibre diameter pyridine concentrations are over same range\n",
    "summary = summary[summary['pyridine_conc'].isin(fibre_df['ppm'])]\n",
    "# print(summary)\n",
    "\n",
    "#Having got fibre diameter now plot\n",
    "#create new template for figure\n",
    "fig, ax = plt.subplots()\n",
    "#Plot line graph\n",
    "ax.errorbar(fibre_df['median'],summary['median'],yerr=summary['IQR'], fmt='x') # plot the line\n",
    "#ax.errorbar(fibre_df['median'],summary['median'],yerr=summary['IQR'],xerr=fibre_df['IQR'], fmt='x') # plot the line\n",
    "#Set axis labels\n",
    "plt.xlabel(r'Microfibre diameter $(\\mu m)$')\n",
    "plt.ylabel(r'Permeability $(m^2)$')\n",
    "#Set the background colour of the entire plot\n",
    "fig.patch.set_facecolor('xkcd:white')\n",
    "#Save figure out\n",
    "fig.savefig(fig_root+'permeability_fibre.png', dpi=300)"
   ]
  },
  {
   "cell_type": "code",
   "execution_count": null,
   "id": "79419da1-320d-41dd-ba90-fa2fb70db84c",
   "metadata": {},
   "outputs": [],
   "source": []
  }
 ],
 "metadata": {
  "kernelspec": {
   "display_name": "Python 3 (ipykernel)",
   "language": "python",
   "name": "python3"
  },
  "language_info": {
   "codemirror_mode": {
    "name": "ipython",
    "version": 3
   },
   "file_extension": ".py",
   "mimetype": "text/x-python",
   "name": "python",
   "nbconvert_exporter": "python",
   "pygments_lexer": "ipython3",
   "version": "3.8.12"
  }
 },
 "nbformat": 4,
 "nbformat_minor": 5
}
